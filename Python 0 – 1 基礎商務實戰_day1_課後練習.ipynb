{
 "metadata": {
  "language_info": {
   "codemirror_mode": {
    "name": "ipython",
    "version": 3
   },
   "file_extension": ".py",
   "mimetype": "text/x-python",
   "name": "python",
   "nbconvert_exporter": "python",
   "pygments_lexer": "ipython3",
   "version": 3
  },
  "orig_nbformat": 2
 },
 "nbformat": 4,
 "nbformat_minor": 2,
 "cells": [
  {
   "cell_type": "code",
   "execution_count": null,
   "metadata": {},
   "outputs": [],
   "source": [
    "\n",
    "#---------for、list、function----------\n",
    "\n",
    "# 問題：使用for迴圈（2行），印出1、2、3、4、5\n"
   ]
  },
  {
   "cell_type": "code",
   "execution_count": null,
   "metadata": {},
   "outputs": [],
   "source": [
    "\n",
    "# 問題：如何將list 附加 'TMR課程好'\n",
    "tmrlist = ['今日頭條新聞，TMR公司開設行銷資料科學專班', \n",
    "           '好棒棒']"
   ]
  },
  {
   "cell_type": "code",
   "execution_count": null,
   "metadata": {},
   "outputs": [],
   "source": [
    "# 問題： 使用range，print 1到75"
   ]
  },
  {
   "cell_type": "code",
   "execution_count": null,
   "metadata": {},
   "outputs": [],
   "source": [
    "\n",
    "# 問題：如何將good串列裡面大於500的數字全部加總起來\n",
    "# 請使用for 迴圈\n",
    "good = [100, 215, 564, 564, 5697, 54]"
   ]
  },
  {
   "cell_type": "code",
   "execution_count": null,
   "metadata": {},
   "outputs": [],
   "source": [
    "\n",
    "# 問題：如何將good2串列裡面等於5的數字使用for迴圈來移除（remove）\n",
    "good2 = [100, 5, 5, 564, 5697, 54]\n"
   ]
  },
  {
   "cell_type": "code",
   "execution_count": null,
   "metadata": {},
   "outputs": [],
   "source": [
    "\n",
    "# 問題：如何將good2串列裡面小於0.7的數字使用for迴圈與list來儲存\n",
    "good3 = [0.9, 0.5, 0.45, 0.564, 0.5697, 0.54]\n"
   ]
  },
  {
   "cell_type": "code",
   "execution_count": null,
   "metadata": {},
   "outputs": [],
   "source": [
    "\n",
    "# 問題：將有iti的句子以list的方式儲存起來\n",
    "# 意涵：\n",
    "'''\n",
    "1. 做資料倉儲\n",
    "2. 統計聲量？ --> 聲量代表潛在可能的商機（$）\n",
    "\n",
    "寫程式的口訣：copy, paste, and modify\n",
    "'''\n",
    "\n",
    "tmrlist = ['今日頭條新聞，iti公司開設行銷資料科學專班', \n",
    "           '好棒棒', 'iti課程好','我愛daphne', '我愛howard', 'daphne愛我']\n",
    "\n",
    "save = []\n"
   ]
  }
 ]
}